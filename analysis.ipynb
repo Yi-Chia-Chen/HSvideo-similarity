{
 "metadata": {
  "language_info": {
   "codemirror_mode": {
    "name": "ipython",
    "version": 3
   },
   "file_extension": ".py",
   "mimetype": "text/x-python",
   "name": "python",
   "nbconvert_exporter": "python",
   "pygments_lexer": "ipython3",
   "version": "3.10.5-final"
  },
  "orig_nbformat": 2,
  "kernelspec": {
   "name": "python3",
   "display_name": "Python 3.10.5 64-bit ('similarityMamba': conda)",
   "metadata": {
    "interpreter": {
     "hash": "bc98d54e8d89c082638333b58217d83a7eaca1e78ef40dcfb2d5ba56bcb45a62"
    }
   }
  }
 },
 "nbformat": 4,
 "nbformat_minor": 2,
 "cells": [
  {
   "cell_type": "code",
   "execution_count": 2,
   "metadata": {},
   "outputs": [],
   "source": [
    "import pandas as pd\n",
    "import json\n",
    "import itertools\n",
    "import random"
   ]
  },
  {
   "source": [
    "# Prepare input"
   ],
   "cell_type": "markdown",
   "metadata": {}
  },
  {
   "cell_type": "code",
   "execution_count": 140,
   "metadata": {},
   "outputs": [
    {
     "output_type": "execute_result",
     "data": {
      "text/plain": [
       "['5787_accompany',\n",
       " '5849_approach',\n",
       " '6034_avoid',\n",
       " '6079_bother',\n",
       " '6035_capture',\n",
       " '5987_creep up on',\n",
       " '6017_encircle',\n",
       " '5875_escape',\n",
       " '5991_examine',\n",
       " '5986_fight',\n",
       " '5948_flirt with',\n",
       " '5878_follow',\n",
       " '6004_herd',\n",
       " '5902_hit',\n",
       " '5843_huddle with',\n",
       " '4397_hug',\n",
       " '5816_ignore',\n",
       " '6012_kiss',\n",
       " '4408_lead',\n",
       " '1145_leave',\n",
       " '5870_poke',\n",
       " '5809_pull',\n",
       " '1012_push',\n",
       " '6016_scratch',\n",
       " '5814_talk to',\n",
       " '6005_throw',\n",
       " '5914_tickle']"
      ]
     },
     "metadata": {},
     "execution_count": 140
    }
   ],
   "source": [
    "allVideos = [\"5787_accompany\",\n",
    "\"5849_approach\",\n",
    "\"6034_avoid\",\n",
    "\"6079_bother\",\n",
    "\"6035_capture\",\n",
    "\"5987_creep up on\",\n",
    "\"6017_encircle\",\n",
    "\"5875_escape\",\n",
    "\"5991_examine\",\n",
    "\"5986_fight\",\n",
    "\"5948_flirt with\",\n",
    "\"5878_follow\",\n",
    "\"6004_herd\",\n",
    "\"5902_hit\",\n",
    "\"5843_huddle with\",\n",
    "\"4397_hug\",\n",
    "\"5816_ignore\",\n",
    "\"6012_kiss\",\n",
    "\"4408_lead\",\n",
    "\"1145_leave\",\n",
    "\"5870_poke\",\n",
    "\"5809_pull\",\n",
    "\"1012_push\",\n",
    "\"6016_scratch\",\n",
    "\"5814_talk to\",\n",
    "\"6005_throw\",\n",
    "\"5914_tickle\"]\n",
    "allVideos"
   ]
  },
  {
   "cell_type": "code",
   "execution_count": 141,
   "metadata": {},
   "outputs": [
    {
     "output_type": "execute_result",
     "data": {
      "text/plain": [
       "2925"
      ]
     },
     "metadata": {},
     "execution_count": 141
    }
   ],
   "source": [
    "vidComb = list(itertools.combinations(allVideos, 3))\n",
    "len(vidComb)"
   ]
  },
  {
   "cell_type": "code",
   "execution_count": 104,
   "metadata": {},
   "outputs": [
    {
     "output_type": "execute_result",
     "data": {
      "text/plain": [
       "2925.0"
      ]
     },
     "metadata": {},
     "execution_count": 104
    }
   ],
   "source": [
    "27*26*25/3/2"
   ]
  },
  {
   "cell_type": "code",
   "execution_count": 142,
   "metadata": {},
   "outputs": [
    {
     "output_type": "execute_result",
     "data": {
      "text/plain": [
       "2925"
      ]
     },
     "metadata": {},
     "execution_count": 142
    }
   ],
   "source": [
    "# randomize the order of three videos in each triplet\n",
    "random.seed(0)\n",
    "randTriplets = [random.sample(triplet, 3) for triplet in vidComb]\n",
    "randTriplets\n",
    "len(randTriplets)"
   ]
  },
  {
   "cell_type": "code",
   "execution_count": 143,
   "metadata": {},
   "outputs": [
    {
     "output_type": "execute_result",
     "data": {
      "text/plain": [
       "2925"
      ]
     },
     "metadata": {},
     "execution_count": 143
    }
   ],
   "source": [
    "# randomize the order of the trials\n",
    "random.seed(0)\n",
    "randTrials = random.sample(randTriplets, len(randTriplets))\n",
    "len(randTrials)"
   ]
  },
  {
   "cell_type": "code",
   "execution_count": 110,
   "metadata": {},
   "outputs": [
    {
     "output_type": "execute_result",
     "data": {
      "text/plain": [
       "65.0"
      ]
     },
     "metadata": {},
     "execution_count": 110
    }
   ],
   "source": [
    "2925/45"
   ]
  },
  {
   "cell_type": "code",
   "execution_count": 144,
   "metadata": {},
   "outputs": [
    {
     "output_type": "execute_result",
     "data": {
      "text/plain": [
       "65"
      ]
     },
     "metadata": {},
     "execution_count": 144
    }
   ],
   "source": [
    "trialN = 45\n",
    "subjN = int(len(vidComb)/trialN)\n",
    "subjN"
   ]
  },
  {
   "cell_type": "code",
   "execution_count": 145,
   "metadata": {},
   "outputs": [],
   "source": [
    "for i in range(subjN):\n",
    "    subjArr = randTrials[(i * trialN): (i * trialN + trialN)]\n",
    "    out_file = open(\"input/expt%s.json\" %(i+1), \"w\")\n",
    "    json.dump({k: v for k, v in enumerate(subjArr)}, out_file)\n",
    "    out_file.close()"
   ]
  },
  {
   "source": [
    "# Manually assign versions"
   ],
   "cell_type": "markdown",
   "metadata": {}
  },
  {
   "cell_type": "code",
   "execution_count": 10,
   "metadata": {},
   "outputs": [],
   "source": [
    "import os"
   ]
  },
  {
   "cell_type": "code",
   "execution_count": 12,
   "metadata": {},
   "outputs": [
    {
     "output_type": "execute_result",
     "data": {
      "text/plain": [
       "'/Users/sophieyun/OneDrive - UCLA IT Services/Grad School/Research/Hongjing/Emoji/emoji-similarity'"
      ]
     },
     "metadata": {},
     "execution_count": 12
    }
   ],
   "source": [
    "os.getcwd()"
   ]
  },
  {
   "cell_type": "code",
   "execution_count": 9,
   "metadata": {},
   "outputs": [
    {
     "output_type": "error",
     "ename": "FileNotFoundError",
     "evalue": "[Errno 2] No such file or directory: './subj_HSvideo.txt'",
     "traceback": [
      "\u001b[0;31m---------------------------------------------------------------------------\u001b[0m",
      "\u001b[0;31mFileNotFoundError\u001b[0m                         Traceback (most recent call last)",
      "Input \u001b[0;32mIn [9]\u001b[0m, in \u001b[0;36m<cell line: 1>\u001b[0;34m()\u001b[0m\n\u001b[0;32m----> 1\u001b[0m subj \u001b[38;5;241m=\u001b[39m \u001b[43mpd\u001b[49m\u001b[38;5;241;43m.\u001b[39;49m\u001b[43mread_csv\u001b[49m\u001b[43m(\u001b[49m\u001b[38;5;124;43m\"\u001b[39;49m\u001b[38;5;124;43m./subj_HSvideo.txt\u001b[39;49m\u001b[38;5;124;43m\"\u001b[39;49m\u001b[43m,\u001b[49m\u001b[43m \u001b[49m\u001b[43mdelimiter\u001b[49m\u001b[38;5;241;43m=\u001b[39;49m\u001b[38;5;124;43m\"\u001b[39;49m\u001b[38;5;130;43;01m\\t\u001b[39;49;00m\u001b[38;5;124;43m\"\u001b[39;49m\u001b[43m)\u001b[49m\n\u001b[1;32m      2\u001b[0m subj\u001b[38;5;241m.\u001b[39mhead()\n",
      "File \u001b[0;32m~/opt/miniconda3/envs/similarityMamba/lib/python3.10/site-packages/pandas/util/_decorators.py:311\u001b[0m, in \u001b[0;36mdeprecate_nonkeyword_arguments.<locals>.decorate.<locals>.wrapper\u001b[0;34m(*args, **kwargs)\u001b[0m\n\u001b[1;32m    305\u001b[0m \u001b[38;5;28;01mif\u001b[39;00m \u001b[38;5;28mlen\u001b[39m(args) \u001b[38;5;241m>\u001b[39m num_allow_args:\n\u001b[1;32m    306\u001b[0m     warnings\u001b[38;5;241m.\u001b[39mwarn(\n\u001b[1;32m    307\u001b[0m         msg\u001b[38;5;241m.\u001b[39mformat(arguments\u001b[38;5;241m=\u001b[39marguments),\n\u001b[1;32m    308\u001b[0m         \u001b[38;5;167;01mFutureWarning\u001b[39;00m,\n\u001b[1;32m    309\u001b[0m         stacklevel\u001b[38;5;241m=\u001b[39mstacklevel,\n\u001b[1;32m    310\u001b[0m     )\n\u001b[0;32m--> 311\u001b[0m \u001b[38;5;28;01mreturn\u001b[39;00m \u001b[43mfunc\u001b[49m\u001b[43m(\u001b[49m\u001b[38;5;241;43m*\u001b[39;49m\u001b[43margs\u001b[49m\u001b[43m,\u001b[49m\u001b[43m \u001b[49m\u001b[38;5;241;43m*\u001b[39;49m\u001b[38;5;241;43m*\u001b[39;49m\u001b[43mkwargs\u001b[49m\u001b[43m)\u001b[49m\n",
      "File \u001b[0;32m~/opt/miniconda3/envs/similarityMamba/lib/python3.10/site-packages/pandas/io/parsers/readers.py:680\u001b[0m, in \u001b[0;36mread_csv\u001b[0;34m(filepath_or_buffer, sep, delimiter, header, names, index_col, usecols, squeeze, prefix, mangle_dupe_cols, dtype, engine, converters, true_values, false_values, skipinitialspace, skiprows, skipfooter, nrows, na_values, keep_default_na, na_filter, verbose, skip_blank_lines, parse_dates, infer_datetime_format, keep_date_col, date_parser, dayfirst, cache_dates, iterator, chunksize, compression, thousands, decimal, lineterminator, quotechar, quoting, doublequote, escapechar, comment, encoding, encoding_errors, dialect, error_bad_lines, warn_bad_lines, on_bad_lines, delim_whitespace, low_memory, memory_map, float_precision, storage_options)\u001b[0m\n\u001b[1;32m    665\u001b[0m kwds_defaults \u001b[38;5;241m=\u001b[39m _refine_defaults_read(\n\u001b[1;32m    666\u001b[0m     dialect,\n\u001b[1;32m    667\u001b[0m     delimiter,\n\u001b[0;32m   (...)\u001b[0m\n\u001b[1;32m    676\u001b[0m     defaults\u001b[38;5;241m=\u001b[39m{\u001b[38;5;124m\"\u001b[39m\u001b[38;5;124mdelimiter\u001b[39m\u001b[38;5;124m\"\u001b[39m: \u001b[38;5;124m\"\u001b[39m\u001b[38;5;124m,\u001b[39m\u001b[38;5;124m\"\u001b[39m},\n\u001b[1;32m    677\u001b[0m )\n\u001b[1;32m    678\u001b[0m kwds\u001b[38;5;241m.\u001b[39mupdate(kwds_defaults)\n\u001b[0;32m--> 680\u001b[0m \u001b[38;5;28;01mreturn\u001b[39;00m \u001b[43m_read\u001b[49m\u001b[43m(\u001b[49m\u001b[43mfilepath_or_buffer\u001b[49m\u001b[43m,\u001b[49m\u001b[43m \u001b[49m\u001b[43mkwds\u001b[49m\u001b[43m)\u001b[49m\n",
      "File \u001b[0;32m~/opt/miniconda3/envs/similarityMamba/lib/python3.10/site-packages/pandas/io/parsers/readers.py:575\u001b[0m, in \u001b[0;36m_read\u001b[0;34m(filepath_or_buffer, kwds)\u001b[0m\n\u001b[1;32m    572\u001b[0m _validate_names(kwds\u001b[38;5;241m.\u001b[39mget(\u001b[38;5;124m\"\u001b[39m\u001b[38;5;124mnames\u001b[39m\u001b[38;5;124m\"\u001b[39m, \u001b[38;5;28;01mNone\u001b[39;00m))\n\u001b[1;32m    574\u001b[0m \u001b[38;5;66;03m# Create the parser.\u001b[39;00m\n\u001b[0;32m--> 575\u001b[0m parser \u001b[38;5;241m=\u001b[39m \u001b[43mTextFileReader\u001b[49m\u001b[43m(\u001b[49m\u001b[43mfilepath_or_buffer\u001b[49m\u001b[43m,\u001b[49m\u001b[43m \u001b[49m\u001b[38;5;241;43m*\u001b[39;49m\u001b[38;5;241;43m*\u001b[39;49m\u001b[43mkwds\u001b[49m\u001b[43m)\u001b[49m\n\u001b[1;32m    577\u001b[0m \u001b[38;5;28;01mif\u001b[39;00m chunksize \u001b[38;5;129;01mor\u001b[39;00m iterator:\n\u001b[1;32m    578\u001b[0m     \u001b[38;5;28;01mreturn\u001b[39;00m parser\n",
      "File \u001b[0;32m~/opt/miniconda3/envs/similarityMamba/lib/python3.10/site-packages/pandas/io/parsers/readers.py:934\u001b[0m, in \u001b[0;36mTextFileReader.__init__\u001b[0;34m(self, f, engine, **kwds)\u001b[0m\n\u001b[1;32m    931\u001b[0m     \u001b[38;5;28mself\u001b[39m\u001b[38;5;241m.\u001b[39moptions[\u001b[38;5;124m\"\u001b[39m\u001b[38;5;124mhas_index_names\u001b[39m\u001b[38;5;124m\"\u001b[39m] \u001b[38;5;241m=\u001b[39m kwds[\u001b[38;5;124m\"\u001b[39m\u001b[38;5;124mhas_index_names\u001b[39m\u001b[38;5;124m\"\u001b[39m]\n\u001b[1;32m    933\u001b[0m \u001b[38;5;28mself\u001b[39m\u001b[38;5;241m.\u001b[39mhandles: IOHandles \u001b[38;5;241m|\u001b[39m \u001b[38;5;28;01mNone\u001b[39;00m \u001b[38;5;241m=\u001b[39m \u001b[38;5;28;01mNone\u001b[39;00m\n\u001b[0;32m--> 934\u001b[0m \u001b[38;5;28mself\u001b[39m\u001b[38;5;241m.\u001b[39m_engine \u001b[38;5;241m=\u001b[39m \u001b[38;5;28;43mself\u001b[39;49m\u001b[38;5;241;43m.\u001b[39;49m\u001b[43m_make_engine\u001b[49m\u001b[43m(\u001b[49m\u001b[43mf\u001b[49m\u001b[43m,\u001b[49m\u001b[43m \u001b[49m\u001b[38;5;28;43mself\u001b[39;49m\u001b[38;5;241;43m.\u001b[39;49m\u001b[43mengine\u001b[49m\u001b[43m)\u001b[49m\n",
      "File \u001b[0;32m~/opt/miniconda3/envs/similarityMamba/lib/python3.10/site-packages/pandas/io/parsers/readers.py:1218\u001b[0m, in \u001b[0;36mTextFileReader._make_engine\u001b[0;34m(self, f, engine)\u001b[0m\n\u001b[1;32m   1214\u001b[0m     mode \u001b[38;5;241m=\u001b[39m \u001b[38;5;124m\"\u001b[39m\u001b[38;5;124mrb\u001b[39m\u001b[38;5;124m\"\u001b[39m\n\u001b[1;32m   1215\u001b[0m \u001b[38;5;66;03m# error: No overload variant of \"get_handle\" matches argument types\u001b[39;00m\n\u001b[1;32m   1216\u001b[0m \u001b[38;5;66;03m# \"Union[str, PathLike[str], ReadCsvBuffer[bytes], ReadCsvBuffer[str]]\"\u001b[39;00m\n\u001b[1;32m   1217\u001b[0m \u001b[38;5;66;03m# , \"str\", \"bool\", \"Any\", \"Any\", \"Any\", \"Any\", \"Any\"\u001b[39;00m\n\u001b[0;32m-> 1218\u001b[0m \u001b[38;5;28mself\u001b[39m\u001b[38;5;241m.\u001b[39mhandles \u001b[38;5;241m=\u001b[39m \u001b[43mget_handle\u001b[49m\u001b[43m(\u001b[49m\u001b[43m  \u001b[49m\u001b[38;5;66;43;03m# type: ignore[call-overload]\u001b[39;49;00m\n\u001b[1;32m   1219\u001b[0m \u001b[43m    \u001b[49m\u001b[43mf\u001b[49m\u001b[43m,\u001b[49m\n\u001b[1;32m   1220\u001b[0m \u001b[43m    \u001b[49m\u001b[43mmode\u001b[49m\u001b[43m,\u001b[49m\n\u001b[1;32m   1221\u001b[0m \u001b[43m    \u001b[49m\u001b[43mencoding\u001b[49m\u001b[38;5;241;43m=\u001b[39;49m\u001b[38;5;28;43mself\u001b[39;49m\u001b[38;5;241;43m.\u001b[39;49m\u001b[43moptions\u001b[49m\u001b[38;5;241;43m.\u001b[39;49m\u001b[43mget\u001b[49m\u001b[43m(\u001b[49m\u001b[38;5;124;43m\"\u001b[39;49m\u001b[38;5;124;43mencoding\u001b[39;49m\u001b[38;5;124;43m\"\u001b[39;49m\u001b[43m,\u001b[49m\u001b[43m \u001b[49m\u001b[38;5;28;43;01mNone\u001b[39;49;00m\u001b[43m)\u001b[49m\u001b[43m,\u001b[49m\n\u001b[1;32m   1222\u001b[0m \u001b[43m    \u001b[49m\u001b[43mcompression\u001b[49m\u001b[38;5;241;43m=\u001b[39;49m\u001b[38;5;28;43mself\u001b[39;49m\u001b[38;5;241;43m.\u001b[39;49m\u001b[43moptions\u001b[49m\u001b[38;5;241;43m.\u001b[39;49m\u001b[43mget\u001b[49m\u001b[43m(\u001b[49m\u001b[38;5;124;43m\"\u001b[39;49m\u001b[38;5;124;43mcompression\u001b[39;49m\u001b[38;5;124;43m\"\u001b[39;49m\u001b[43m,\u001b[49m\u001b[43m \u001b[49m\u001b[38;5;28;43;01mNone\u001b[39;49;00m\u001b[43m)\u001b[49m\u001b[43m,\u001b[49m\n\u001b[1;32m   1223\u001b[0m \u001b[43m    \u001b[49m\u001b[43mmemory_map\u001b[49m\u001b[38;5;241;43m=\u001b[39;49m\u001b[38;5;28;43mself\u001b[39;49m\u001b[38;5;241;43m.\u001b[39;49m\u001b[43moptions\u001b[49m\u001b[38;5;241;43m.\u001b[39;49m\u001b[43mget\u001b[49m\u001b[43m(\u001b[49m\u001b[38;5;124;43m\"\u001b[39;49m\u001b[38;5;124;43mmemory_map\u001b[39;49m\u001b[38;5;124;43m\"\u001b[39;49m\u001b[43m,\u001b[49m\u001b[43m \u001b[49m\u001b[38;5;28;43;01mFalse\u001b[39;49;00m\u001b[43m)\u001b[49m\u001b[43m,\u001b[49m\n\u001b[1;32m   1224\u001b[0m \u001b[43m    \u001b[49m\u001b[43mis_text\u001b[49m\u001b[38;5;241;43m=\u001b[39;49m\u001b[43mis_text\u001b[49m\u001b[43m,\u001b[49m\n\u001b[1;32m   1225\u001b[0m \u001b[43m    \u001b[49m\u001b[43merrors\u001b[49m\u001b[38;5;241;43m=\u001b[39;49m\u001b[38;5;28;43mself\u001b[39;49m\u001b[38;5;241;43m.\u001b[39;49m\u001b[43moptions\u001b[49m\u001b[38;5;241;43m.\u001b[39;49m\u001b[43mget\u001b[49m\u001b[43m(\u001b[49m\u001b[38;5;124;43m\"\u001b[39;49m\u001b[38;5;124;43mencoding_errors\u001b[39;49m\u001b[38;5;124;43m\"\u001b[39;49m\u001b[43m,\u001b[49m\u001b[43m \u001b[49m\u001b[38;5;124;43m\"\u001b[39;49m\u001b[38;5;124;43mstrict\u001b[39;49m\u001b[38;5;124;43m\"\u001b[39;49m\u001b[43m)\u001b[49m\u001b[43m,\u001b[49m\n\u001b[1;32m   1226\u001b[0m \u001b[43m    \u001b[49m\u001b[43mstorage_options\u001b[49m\u001b[38;5;241;43m=\u001b[39;49m\u001b[38;5;28;43mself\u001b[39;49m\u001b[38;5;241;43m.\u001b[39;49m\u001b[43moptions\u001b[49m\u001b[38;5;241;43m.\u001b[39;49m\u001b[43mget\u001b[49m\u001b[43m(\u001b[49m\u001b[38;5;124;43m\"\u001b[39;49m\u001b[38;5;124;43mstorage_options\u001b[39;49m\u001b[38;5;124;43m\"\u001b[39;49m\u001b[43m,\u001b[49m\u001b[43m \u001b[49m\u001b[38;5;28;43;01mNone\u001b[39;49;00m\u001b[43m)\u001b[49m\u001b[43m,\u001b[49m\n\u001b[1;32m   1227\u001b[0m \u001b[43m\u001b[49m\u001b[43m)\u001b[49m\n\u001b[1;32m   1228\u001b[0m \u001b[38;5;28;01massert\u001b[39;00m \u001b[38;5;28mself\u001b[39m\u001b[38;5;241m.\u001b[39mhandles \u001b[38;5;129;01mis\u001b[39;00m \u001b[38;5;129;01mnot\u001b[39;00m \u001b[38;5;28;01mNone\u001b[39;00m\n\u001b[1;32m   1229\u001b[0m f \u001b[38;5;241m=\u001b[39m \u001b[38;5;28mself\u001b[39m\u001b[38;5;241m.\u001b[39mhandles\u001b[38;5;241m.\u001b[39mhandle\n",
      "File \u001b[0;32m~/opt/miniconda3/envs/similarityMamba/lib/python3.10/site-packages/pandas/io/common.py:786\u001b[0m, in \u001b[0;36mget_handle\u001b[0;34m(path_or_buf, mode, encoding, compression, memory_map, is_text, errors, storage_options)\u001b[0m\n\u001b[1;32m    781\u001b[0m \u001b[38;5;28;01melif\u001b[39;00m \u001b[38;5;28misinstance\u001b[39m(handle, \u001b[38;5;28mstr\u001b[39m):\n\u001b[1;32m    782\u001b[0m     \u001b[38;5;66;03m# Check whether the filename is to be opened in binary mode.\u001b[39;00m\n\u001b[1;32m    783\u001b[0m     \u001b[38;5;66;03m# Binary mode does not support 'encoding' and 'newline'.\u001b[39;00m\n\u001b[1;32m    784\u001b[0m     \u001b[38;5;28;01mif\u001b[39;00m ioargs\u001b[38;5;241m.\u001b[39mencoding \u001b[38;5;129;01mand\u001b[39;00m \u001b[38;5;124m\"\u001b[39m\u001b[38;5;124mb\u001b[39m\u001b[38;5;124m\"\u001b[39m \u001b[38;5;129;01mnot\u001b[39;00m \u001b[38;5;129;01min\u001b[39;00m ioargs\u001b[38;5;241m.\u001b[39mmode:\n\u001b[1;32m    785\u001b[0m         \u001b[38;5;66;03m# Encoding\u001b[39;00m\n\u001b[0;32m--> 786\u001b[0m         handle \u001b[38;5;241m=\u001b[39m \u001b[38;5;28;43mopen\u001b[39;49m\u001b[43m(\u001b[49m\n\u001b[1;32m    787\u001b[0m \u001b[43m            \u001b[49m\u001b[43mhandle\u001b[49m\u001b[43m,\u001b[49m\n\u001b[1;32m    788\u001b[0m \u001b[43m            \u001b[49m\u001b[43mioargs\u001b[49m\u001b[38;5;241;43m.\u001b[39;49m\u001b[43mmode\u001b[49m\u001b[43m,\u001b[49m\n\u001b[1;32m    789\u001b[0m \u001b[43m            \u001b[49m\u001b[43mencoding\u001b[49m\u001b[38;5;241;43m=\u001b[39;49m\u001b[43mioargs\u001b[49m\u001b[38;5;241;43m.\u001b[39;49m\u001b[43mencoding\u001b[49m\u001b[43m,\u001b[49m\n\u001b[1;32m    790\u001b[0m \u001b[43m            \u001b[49m\u001b[43merrors\u001b[49m\u001b[38;5;241;43m=\u001b[39;49m\u001b[43merrors\u001b[49m\u001b[43m,\u001b[49m\n\u001b[1;32m    791\u001b[0m \u001b[43m            \u001b[49m\u001b[43mnewline\u001b[49m\u001b[38;5;241;43m=\u001b[39;49m\u001b[38;5;124;43m\"\u001b[39;49m\u001b[38;5;124;43m\"\u001b[39;49m\u001b[43m,\u001b[49m\n\u001b[1;32m    792\u001b[0m \u001b[43m        \u001b[49m\u001b[43m)\u001b[49m\n\u001b[1;32m    793\u001b[0m     \u001b[38;5;28;01melse\u001b[39;00m:\n\u001b[1;32m    794\u001b[0m         \u001b[38;5;66;03m# Binary mode\u001b[39;00m\n\u001b[1;32m    795\u001b[0m         handle \u001b[38;5;241m=\u001b[39m \u001b[38;5;28mopen\u001b[39m(handle, ioargs\u001b[38;5;241m.\u001b[39mmode)\n",
      "\u001b[0;31mFileNotFoundError\u001b[0m: [Errno 2] No such file or directory: './subj_HSvideo.txt'"
     ]
    }
   ],
   "source": [
    "subj = pd.read_csv(\"./subj_HSvideo.txt\", delimiter=\"\\t\")\n",
    "subj.head()"
   ]
  },
  {
   "source": [
    "# Data analysis"
   ],
   "cell_type": "markdown",
   "metadata": {}
  },
  {
   "cell_type": "code",
   "execution_count": 54,
   "metadata": {},
   "outputs": [],
   "source": [
    "trial = pd.read_csv(\"trial_HSvideo.txt\", delimiter=\";\")"
   ]
  },
  {
   "cell_type": "code",
   "execution_count": 13,
   "metadata": {},
   "outputs": [
    {
     "output_type": "execute_result",
     "data": {
      "text/plain": [
       "      subjNum  subjStartDate  subjStartTime  trialIndex  exptId  choicePos  \\\n",
       "0   undefined     2022-11-03       23:57:00           0       2     middle   \n",
       "1   undefined     2022-11-03       23:57:00           1       0      right   \n",
       "2   undefined     2022-11-03       23:57:00           2       1     middle   \n",
       "3     subjNum  subjStartDate  subjStartTime  trialIndex  exptId  choicePos   \n",
       "4          15     2022-11-04       04:23:38           0       1       left   \n",
       "5          15     2022-11-04       04:23:38           1       0     middle   \n",
       "6          15     2022-11-04       04:23:38           2       2       left   \n",
       "7     subjNum  subjStartDate  subjStartTime  trialIndex  exptId  choicePos   \n",
       "8          16     2022-11-04       04:59:36           0       0     middle   \n",
       "9          16     2022-11-04       04:59:36           1       1     middle   \n",
       "10         16     2022-11-04       04:59:36           2       2     middle   \n",
       "\n",
       "                   vidPlayCounts       rt  \n",
       "0   {\"vid1\":1,\"vid2\":1,\"vid3\":1}    28705  \n",
       "1   {\"vid1\":2,\"vid2\":4,\"vid3\":2}   106213  \n",
       "2   {\"vid1\":3,\"vid2\":3,\"vid3\":3}   446111  \n",
       "3                  vidPlayCounts       rt  \n",
       "4   {\"vid1\":1,\"vid2\":1,\"vid3\":1}   27.717  \n",
       "5   {\"vid1\":2,\"vid2\":2,\"vid3\":2}   60.548  \n",
       "6   {\"vid1\":3,\"vid2\":3,\"vid3\":3}   92.778  \n",
       "7                  vidPlayCounts       rt  \n",
       "8   {\"vid1\":1,\"vid2\":1,\"vid3\":1}   31.785  \n",
       "9   {\"vid1\":2,\"vid2\":2,\"vid3\":2}   59.408  \n",
       "10  {\"vid1\":3,\"vid2\":3,\"vid3\":3}  110.484  "
      ],
      "text/html": "<div>\n<style scoped>\n    .dataframe tbody tr th:only-of-type {\n        vertical-align: middle;\n    }\n\n    .dataframe tbody tr th {\n        vertical-align: top;\n    }\n\n    .dataframe thead th {\n        text-align: right;\n    }\n</style>\n<table border=\"1\" class=\"dataframe\">\n  <thead>\n    <tr style=\"text-align: right;\">\n      <th></th>\n      <th>subjNum</th>\n      <th>subjStartDate</th>\n      <th>subjStartTime</th>\n      <th>trialIndex</th>\n      <th>exptId</th>\n      <th>choicePos</th>\n      <th>vidPlayCounts</th>\n      <th>rt</th>\n    </tr>\n  </thead>\n  <tbody>\n    <tr>\n      <th>0</th>\n      <td>undefined</td>\n      <td>2022-11-03</td>\n      <td>23:57:00</td>\n      <td>0</td>\n      <td>2</td>\n      <td>middle</td>\n      <td>{\"vid1\":1,\"vid2\":1,\"vid3\":1}</td>\n      <td>28705</td>\n    </tr>\n    <tr>\n      <th>1</th>\n      <td>undefined</td>\n      <td>2022-11-03</td>\n      <td>23:57:00</td>\n      <td>1</td>\n      <td>0</td>\n      <td>right</td>\n      <td>{\"vid1\":2,\"vid2\":4,\"vid3\":2}</td>\n      <td>106213</td>\n    </tr>\n    <tr>\n      <th>2</th>\n      <td>undefined</td>\n      <td>2022-11-03</td>\n      <td>23:57:00</td>\n      <td>2</td>\n      <td>1</td>\n      <td>middle</td>\n      <td>{\"vid1\":3,\"vid2\":3,\"vid3\":3}</td>\n      <td>446111</td>\n    </tr>\n    <tr>\n      <th>3</th>\n      <td>subjNum</td>\n      <td>subjStartDate</td>\n      <td>subjStartTime</td>\n      <td>trialIndex</td>\n      <td>exptId</td>\n      <td>choicePos</td>\n      <td>vidPlayCounts</td>\n      <td>rt</td>\n    </tr>\n    <tr>\n      <th>4</th>\n      <td>15</td>\n      <td>2022-11-04</td>\n      <td>04:23:38</td>\n      <td>0</td>\n      <td>1</td>\n      <td>left</td>\n      <td>{\"vid1\":1,\"vid2\":1,\"vid3\":1}</td>\n      <td>27.717</td>\n    </tr>\n    <tr>\n      <th>5</th>\n      <td>15</td>\n      <td>2022-11-04</td>\n      <td>04:23:38</td>\n      <td>1</td>\n      <td>0</td>\n      <td>middle</td>\n      <td>{\"vid1\":2,\"vid2\":2,\"vid3\":2}</td>\n      <td>60.548</td>\n    </tr>\n    <tr>\n      <th>6</th>\n      <td>15</td>\n      <td>2022-11-04</td>\n      <td>04:23:38</td>\n      <td>2</td>\n      <td>2</td>\n      <td>left</td>\n      <td>{\"vid1\":3,\"vid2\":3,\"vid3\":3}</td>\n      <td>92.778</td>\n    </tr>\n    <tr>\n      <th>7</th>\n      <td>subjNum</td>\n      <td>subjStartDate</td>\n      <td>subjStartTime</td>\n      <td>trialIndex</td>\n      <td>exptId</td>\n      <td>choicePos</td>\n      <td>vidPlayCounts</td>\n      <td>rt</td>\n    </tr>\n    <tr>\n      <th>8</th>\n      <td>16</td>\n      <td>2022-11-04</td>\n      <td>04:59:36</td>\n      <td>0</td>\n      <td>0</td>\n      <td>middle</td>\n      <td>{\"vid1\":1,\"vid2\":1,\"vid3\":1}</td>\n      <td>31.785</td>\n    </tr>\n    <tr>\n      <th>9</th>\n      <td>16</td>\n      <td>2022-11-04</td>\n      <td>04:59:36</td>\n      <td>1</td>\n      <td>1</td>\n      <td>middle</td>\n      <td>{\"vid1\":2,\"vid2\":2,\"vid3\":2}</td>\n      <td>59.408</td>\n    </tr>\n    <tr>\n      <th>10</th>\n      <td>16</td>\n      <td>2022-11-04</td>\n      <td>04:59:36</td>\n      <td>2</td>\n      <td>2</td>\n      <td>middle</td>\n      <td>{\"vid1\":3,\"vid2\":3,\"vid3\":3}</td>\n      <td>110.484</td>\n    </tr>\n  </tbody>\n</table>\n</div>"
     },
     "metadata": {},
     "execution_count": 13
    }
   ],
   "source": [
    "trial"
   ]
  },
  {
   "cell_type": "code",
   "execution_count": 30,
   "metadata": {},
   "outputs": [
    {
     "output_type": "execute_result",
     "data": {
      "text/plain": [
       "1"
      ]
     },
     "metadata": {},
     "execution_count": 30
    }
   ],
   "source": [
    "dict = json.loads(trial.vidPlayCounts[0])\n",
    "dict['vid1']"
   ]
  },
  {
   "cell_type": "code",
   "execution_count": 3,
   "metadata": {},
   "outputs": [
    {
     "output_type": "execute_result",
     "data": {
      "text/plain": [
       "   num        date startTime    id  \\\n",
       "0   18  2022-11-04  05:04:06  1234   \n",
       "\n",
       "                                           userAgent   endTime  duration  \\\n",
       "0  Mozilla/5.0 (Macintosh; Intel Mac OS X 10_15_7...  05:06:34  2.464733   \n",
       "\n",
       "   quizAttemptN                                  instrReadingTimes  \\\n",
       "0             1  {\"0\":0.831,\"1\":1.259,\"2\":1.654,\"3\":2.428,\"4\":3...   \n",
       "\n",
       "   quickReadingPageN  ...  hiddenDurations  comments serious  maximized  \\\n",
       "0                  0  ...              NaN      hehe       1          1   \n",
       "\n",
       "   problems gender age  inView  viewportW  viewportH  \n",
       "0         n      F  18    True       1920       1080  \n",
       "\n",
       "[1 rows x 21 columns]"
      ],
      "text/html": "<div>\n<style scoped>\n    .dataframe tbody tr th:only-of-type {\n        vertical-align: middle;\n    }\n\n    .dataframe tbody tr th {\n        vertical-align: top;\n    }\n\n    .dataframe thead th {\n        text-align: right;\n    }\n</style>\n<table border=\"1\" class=\"dataframe\">\n  <thead>\n    <tr style=\"text-align: right;\">\n      <th></th>\n      <th>num</th>\n      <th>date</th>\n      <th>startTime</th>\n      <th>id</th>\n      <th>userAgent</th>\n      <th>endTime</th>\n      <th>duration</th>\n      <th>quizAttemptN</th>\n      <th>instrReadingTimes</th>\n      <th>quickReadingPageN</th>\n      <th>...</th>\n      <th>hiddenDurations</th>\n      <th>comments</th>\n      <th>serious</th>\n      <th>maximized</th>\n      <th>problems</th>\n      <th>gender</th>\n      <th>age</th>\n      <th>inView</th>\n      <th>viewportW</th>\n      <th>viewportH</th>\n    </tr>\n  </thead>\n  <tbody>\n    <tr>\n      <th>0</th>\n      <td>18</td>\n      <td>2022-11-04</td>\n      <td>05:04:06</td>\n      <td>1234</td>\n      <td>Mozilla/5.0 (Macintosh; Intel Mac OS X 10_15_7...</td>\n      <td>05:06:34</td>\n      <td>2.464733</td>\n      <td>1</td>\n      <td>{\"0\":0.831,\"1\":1.259,\"2\":1.654,\"3\":2.428,\"4\":3...</td>\n      <td>0</td>\n      <td>...</td>\n      <td>NaN</td>\n      <td>hehe</td>\n      <td>1</td>\n      <td>1</td>\n      <td>n</td>\n      <td>F</td>\n      <td>18</td>\n      <td>True</td>\n      <td>1920</td>\n      <td>1080</td>\n    </tr>\n  </tbody>\n</table>\n<p>1 rows × 21 columns</p>\n</div>"
     },
     "metadata": {},
     "execution_count": 3
    }
   ],
   "source": [
    "subj = pd.read_csv(\"subj_HSvideo.txt\", delimiter=\"\\t\")\n",
    "subj"
   ]
  },
  {
   "cell_type": "code",
   "execution_count": 5,
   "metadata": {},
   "outputs": [
    {
     "output_type": "execute_result",
     "data": {
      "text/plain": [
       "0.831"
      ]
     },
     "metadata": {},
     "execution_count": 5
    }
   ],
   "source": [
    "dict = json.loads(subj.instrReadingTimes[0])\n",
    "dict['0']"
   ]
  },
  {
   "cell_type": "code",
   "execution_count": 15,
   "metadata": {},
   "outputs": [
    {
     "output_type": "execute_result",
     "data": {
      "text/plain": [
       "     subjNum   startDate  startTime    id  \\\n",
       "0   pre-post  2022-10-28   22:18:37  1234   \n",
       "1    subjNum   startDate  startTime    id   \n",
       "2   pre-post  2022-10-28   22:28:52  1234   \n",
       "3    subjNum   startDate  startTime    id   \n",
       "4   pre-post  2022-10-28   22:33:21  1234   \n",
       "5    subjNum   startDate  startTime    id   \n",
       "6   pre-post  2022-10-28   22:35:51  1234   \n",
       "7    subjNum   startDate  startTime    id   \n",
       "8   pre-post  2022-10-28   22:36:06  1234   \n",
       "9    subjNum   startDate  startTime    id   \n",
       "10  pre-post  2022-11-02   20:58:21  1234   \n",
       "11   subjNum   startDate  startTime    id   \n",
       "12  pre-post  2022-11-02   21:10:47  1234   \n",
       "13   subjNum   startDate  startTime    id   \n",
       "14  pre-post  2022-11-02   21:13:03  1234   \n",
       "15   subjNum   startDate  startTime    id   \n",
       "16  pre-post  2022-11-03   06:00:45  1234   \n",
       "17   subjNum   startDate  startTime    id   \n",
       "18  pre-post  2022-11-03   23:57:00  1234   \n",
       "19   subjNum   startDate  startTime    id   \n",
       "20  pre-post  2022-11-04   00:06:33  1234   \n",
       "21   subjNum   startDate  startTime    id   \n",
       "22  pre-post  2022-11-04   03:04:22  1234   \n",
       "23   subjNum   startDate  startTime    id   \n",
       "24  pre-post  2022-11-04   04:07:32  1234   \n",
       "25   subjNum   startDate  startTime    id   \n",
       "26  pre-post  2022-11-04   04:15:05  1234   \n",
       "27   subjNum   startDate  startTime    id   \n",
       "28  pre-post  2022-11-04   04:23:38  1234   \n",
       "29   subjNum   startDate  startTime    id   \n",
       "30  pre-post  2022-11-04   04:59:36  1234   \n",
       "\n",
       "                                            userAgent  inView  viewportW  \\\n",
       "0   Mozilla/5.0 (Windows NT 10.0; Win64; x64) Appl...    true       1365   \n",
       "1                                           userAgent  inView  viewportW   \n",
       "2   Mozilla/5.0 (Windows NT 10.0; Win64; x64) Appl...    true       1365   \n",
       "3                                           userAgent  inView  viewportW   \n",
       "4   Mozilla/5.0 (Windows NT 10.0; Win64; x64) Appl...    true       1365   \n",
       "5                                           userAgent  inView  viewportW   \n",
       "6   Mozilla/5.0 (Windows NT 10.0; Win64; x64) Appl...    true       1365   \n",
       "7                                           userAgent  inView  viewportW   \n",
       "8   Mozilla/5.0 (Windows NT 10.0; Win64; x64) Appl...    true       1365   \n",
       "9                                           userAgent  inView  viewportW   \n",
       "10  Mozilla/5.0 (Macintosh; Intel Mac OS X 10_15_7...    true       1440   \n",
       "11                                          userAgent  inView  viewportW   \n",
       "12  Mozilla/5.0 (Macintosh; Intel Mac OS X 10_15_7...    true       1440   \n",
       "13                                          userAgent  inView  viewportW   \n",
       "14  Mozilla/5.0 (Macintosh; Intel Mac OS X 10_15_7...    true       1440   \n",
       "15                                          userAgent  inView  viewportW   \n",
       "16  Mozilla/5.0 (Macintosh; Intel Mac OS X 10_15_7...    true       1440   \n",
       "17                                          userAgent  inView  viewportW   \n",
       "18  Mozilla/5.0 (Macintosh; Intel Mac OS X 10_15_7...    true       1920   \n",
       "19                                          userAgent  inView  viewportW   \n",
       "20  Mozilla/5.0 (Macintosh; Intel Mac OS X 10_15_7...    true       1920   \n",
       "21                                          userAgent  inView  viewportW   \n",
       "22  Mozilla/5.0 (Macintosh; Intel Mac OS X 10_15_7...    true       1920   \n",
       "23                                          userAgent  inView  viewportW   \n",
       "24  Mozilla/5.0 (Macintosh; Intel Mac OS X 10_15_7...    true       1669   \n",
       "25                                          userAgent  inView  viewportW   \n",
       "26  Mozilla/5.0 (Macintosh; Intel Mac OS X 10_15_7...    true       1523   \n",
       "27                                          userAgent  inView  viewportW   \n",
       "28  Mozilla/5.0 (Macintosh; Intel Mac OS X 10_15_7...    true       1523   \n",
       "29                                          userAgent  inView  viewportW   \n",
       "30  Mozilla/5.0 (Macintosh; Intel Mac OS X 10_15_7...    true       1523   \n",
       "\n",
       "    viewportH  \n",
       "0        1089  \n",
       "1   viewportH  \n",
       "2        1089  \n",
       "3   viewportH  \n",
       "4        1089  \n",
       "5   viewportH  \n",
       "6        1089  \n",
       "7   viewportH  \n",
       "8        1089  \n",
       "9   viewportH  \n",
       "10        820  \n",
       "11  viewportH  \n",
       "12        763  \n",
       "13  viewportH  \n",
       "14        763  \n",
       "15  viewportH  \n",
       "16        820  \n",
       "17  viewportH  \n",
       "18       1000  \n",
       "19  viewportH  \n",
       "20       1000  \n",
       "21  viewportH  \n",
       "22       1000  \n",
       "23  viewportH  \n",
       "24       1000  \n",
       "25  viewportH  \n",
       "26       1000  \n",
       "27  viewportH  \n",
       "28       1000  \n",
       "29  viewportH  \n",
       "30       1000  "
      ],
      "text/html": "<div>\n<style scoped>\n    .dataframe tbody tr th:only-of-type {\n        vertical-align: middle;\n    }\n\n    .dataframe tbody tr th {\n        vertical-align: top;\n    }\n\n    .dataframe thead th {\n        text-align: right;\n    }\n</style>\n<table border=\"1\" class=\"dataframe\">\n  <thead>\n    <tr style=\"text-align: right;\">\n      <th></th>\n      <th>subjNum</th>\n      <th>startDate</th>\n      <th>startTime</th>\n      <th>id</th>\n      <th>userAgent</th>\n      <th>inView</th>\n      <th>viewportW</th>\n      <th>viewportH</th>\n    </tr>\n  </thead>\n  <tbody>\n    <tr>\n      <th>0</th>\n      <td>pre-post</td>\n      <td>2022-10-28</td>\n      <td>22:18:37</td>\n      <td>1234</td>\n      <td>Mozilla/5.0 (Windows NT 10.0; Win64; x64) Appl...</td>\n      <td>true</td>\n      <td>1365</td>\n      <td>1089</td>\n    </tr>\n    <tr>\n      <th>1</th>\n      <td>subjNum</td>\n      <td>startDate</td>\n      <td>startTime</td>\n      <td>id</td>\n      <td>userAgent</td>\n      <td>inView</td>\n      <td>viewportW</td>\n      <td>viewportH</td>\n    </tr>\n    <tr>\n      <th>2</th>\n      <td>pre-post</td>\n      <td>2022-10-28</td>\n      <td>22:28:52</td>\n      <td>1234</td>\n      <td>Mozilla/5.0 (Windows NT 10.0; Win64; x64) Appl...</td>\n      <td>true</td>\n      <td>1365</td>\n      <td>1089</td>\n    </tr>\n    <tr>\n      <th>3</th>\n      <td>subjNum</td>\n      <td>startDate</td>\n      <td>startTime</td>\n      <td>id</td>\n      <td>userAgent</td>\n      <td>inView</td>\n      <td>viewportW</td>\n      <td>viewportH</td>\n    </tr>\n    <tr>\n      <th>4</th>\n      <td>pre-post</td>\n      <td>2022-10-28</td>\n      <td>22:33:21</td>\n      <td>1234</td>\n      <td>Mozilla/5.0 (Windows NT 10.0; Win64; x64) Appl...</td>\n      <td>true</td>\n      <td>1365</td>\n      <td>1089</td>\n    </tr>\n    <tr>\n      <th>5</th>\n      <td>subjNum</td>\n      <td>startDate</td>\n      <td>startTime</td>\n      <td>id</td>\n      <td>userAgent</td>\n      <td>inView</td>\n      <td>viewportW</td>\n      <td>viewportH</td>\n    </tr>\n    <tr>\n      <th>6</th>\n      <td>pre-post</td>\n      <td>2022-10-28</td>\n      <td>22:35:51</td>\n      <td>1234</td>\n      <td>Mozilla/5.0 (Windows NT 10.0; Win64; x64) Appl...</td>\n      <td>true</td>\n      <td>1365</td>\n      <td>1089</td>\n    </tr>\n    <tr>\n      <th>7</th>\n      <td>subjNum</td>\n      <td>startDate</td>\n      <td>startTime</td>\n      <td>id</td>\n      <td>userAgent</td>\n      <td>inView</td>\n      <td>viewportW</td>\n      <td>viewportH</td>\n    </tr>\n    <tr>\n      <th>8</th>\n      <td>pre-post</td>\n      <td>2022-10-28</td>\n      <td>22:36:06</td>\n      <td>1234</td>\n      <td>Mozilla/5.0 (Windows NT 10.0; Win64; x64) Appl...</td>\n      <td>true</td>\n      <td>1365</td>\n      <td>1089</td>\n    </tr>\n    <tr>\n      <th>9</th>\n      <td>subjNum</td>\n      <td>startDate</td>\n      <td>startTime</td>\n      <td>id</td>\n      <td>userAgent</td>\n      <td>inView</td>\n      <td>viewportW</td>\n      <td>viewportH</td>\n    </tr>\n    <tr>\n      <th>10</th>\n      <td>pre-post</td>\n      <td>2022-11-02</td>\n      <td>20:58:21</td>\n      <td>1234</td>\n      <td>Mozilla/5.0 (Macintosh; Intel Mac OS X 10_15_7...</td>\n      <td>true</td>\n      <td>1440</td>\n      <td>820</td>\n    </tr>\n    <tr>\n      <th>11</th>\n      <td>subjNum</td>\n      <td>startDate</td>\n      <td>startTime</td>\n      <td>id</td>\n      <td>userAgent</td>\n      <td>inView</td>\n      <td>viewportW</td>\n      <td>viewportH</td>\n    </tr>\n    <tr>\n      <th>12</th>\n      <td>pre-post</td>\n      <td>2022-11-02</td>\n      <td>21:10:47</td>\n      <td>1234</td>\n      <td>Mozilla/5.0 (Macintosh; Intel Mac OS X 10_15_7...</td>\n      <td>true</td>\n      <td>1440</td>\n      <td>763</td>\n    </tr>\n    <tr>\n      <th>13</th>\n      <td>subjNum</td>\n      <td>startDate</td>\n      <td>startTime</td>\n      <td>id</td>\n      <td>userAgent</td>\n      <td>inView</td>\n      <td>viewportW</td>\n      <td>viewportH</td>\n    </tr>\n    <tr>\n      <th>14</th>\n      <td>pre-post</td>\n      <td>2022-11-02</td>\n      <td>21:13:03</td>\n      <td>1234</td>\n      <td>Mozilla/5.0 (Macintosh; Intel Mac OS X 10_15_7...</td>\n      <td>true</td>\n      <td>1440</td>\n      <td>763</td>\n    </tr>\n    <tr>\n      <th>15</th>\n      <td>subjNum</td>\n      <td>startDate</td>\n      <td>startTime</td>\n      <td>id</td>\n      <td>userAgent</td>\n      <td>inView</td>\n      <td>viewportW</td>\n      <td>viewportH</td>\n    </tr>\n    <tr>\n      <th>16</th>\n      <td>pre-post</td>\n      <td>2022-11-03</td>\n      <td>06:00:45</td>\n      <td>1234</td>\n      <td>Mozilla/5.0 (Macintosh; Intel Mac OS X 10_15_7...</td>\n      <td>true</td>\n      <td>1440</td>\n      <td>820</td>\n    </tr>\n    <tr>\n      <th>17</th>\n      <td>subjNum</td>\n      <td>startDate</td>\n      <td>startTime</td>\n      <td>id</td>\n      <td>userAgent</td>\n      <td>inView</td>\n      <td>viewportW</td>\n      <td>viewportH</td>\n    </tr>\n    <tr>\n      <th>18</th>\n      <td>pre-post</td>\n      <td>2022-11-03</td>\n      <td>23:57:00</td>\n      <td>1234</td>\n      <td>Mozilla/5.0 (Macintosh; Intel Mac OS X 10_15_7...</td>\n      <td>true</td>\n      <td>1920</td>\n      <td>1000</td>\n    </tr>\n    <tr>\n      <th>19</th>\n      <td>subjNum</td>\n      <td>startDate</td>\n      <td>startTime</td>\n      <td>id</td>\n      <td>userAgent</td>\n      <td>inView</td>\n      <td>viewportW</td>\n      <td>viewportH</td>\n    </tr>\n    <tr>\n      <th>20</th>\n      <td>pre-post</td>\n      <td>2022-11-04</td>\n      <td>00:06:33</td>\n      <td>1234</td>\n      <td>Mozilla/5.0 (Macintosh; Intel Mac OS X 10_15_7...</td>\n      <td>true</td>\n      <td>1920</td>\n      <td>1000</td>\n    </tr>\n    <tr>\n      <th>21</th>\n      <td>subjNum</td>\n      <td>startDate</td>\n      <td>startTime</td>\n      <td>id</td>\n      <td>userAgent</td>\n      <td>inView</td>\n      <td>viewportW</td>\n      <td>viewportH</td>\n    </tr>\n    <tr>\n      <th>22</th>\n      <td>pre-post</td>\n      <td>2022-11-04</td>\n      <td>03:04:22</td>\n      <td>1234</td>\n      <td>Mozilla/5.0 (Macintosh; Intel Mac OS X 10_15_7...</td>\n      <td>true</td>\n      <td>1920</td>\n      <td>1000</td>\n    </tr>\n    <tr>\n      <th>23</th>\n      <td>subjNum</td>\n      <td>startDate</td>\n      <td>startTime</td>\n      <td>id</td>\n      <td>userAgent</td>\n      <td>inView</td>\n      <td>viewportW</td>\n      <td>viewportH</td>\n    </tr>\n    <tr>\n      <th>24</th>\n      <td>pre-post</td>\n      <td>2022-11-04</td>\n      <td>04:07:32</td>\n      <td>1234</td>\n      <td>Mozilla/5.0 (Macintosh; Intel Mac OS X 10_15_7...</td>\n      <td>true</td>\n      <td>1669</td>\n      <td>1000</td>\n    </tr>\n    <tr>\n      <th>25</th>\n      <td>subjNum</td>\n      <td>startDate</td>\n      <td>startTime</td>\n      <td>id</td>\n      <td>userAgent</td>\n      <td>inView</td>\n      <td>viewportW</td>\n      <td>viewportH</td>\n    </tr>\n    <tr>\n      <th>26</th>\n      <td>pre-post</td>\n      <td>2022-11-04</td>\n      <td>04:15:05</td>\n      <td>1234</td>\n      <td>Mozilla/5.0 (Macintosh; Intel Mac OS X 10_15_7...</td>\n      <td>true</td>\n      <td>1523</td>\n      <td>1000</td>\n    </tr>\n    <tr>\n      <th>27</th>\n      <td>subjNum</td>\n      <td>startDate</td>\n      <td>startTime</td>\n      <td>id</td>\n      <td>userAgent</td>\n      <td>inView</td>\n      <td>viewportW</td>\n      <td>viewportH</td>\n    </tr>\n    <tr>\n      <th>28</th>\n      <td>pre-post</td>\n      <td>2022-11-04</td>\n      <td>04:23:38</td>\n      <td>1234</td>\n      <td>Mozilla/5.0 (Macintosh; Intel Mac OS X 10_15_7...</td>\n      <td>true</td>\n      <td>1523</td>\n      <td>1000</td>\n    </tr>\n    <tr>\n      <th>29</th>\n      <td>subjNum</td>\n      <td>startDate</td>\n      <td>startTime</td>\n      <td>id</td>\n      <td>userAgent</td>\n      <td>inView</td>\n      <td>viewportW</td>\n      <td>viewportH</td>\n    </tr>\n    <tr>\n      <th>30</th>\n      <td>pre-post</td>\n      <td>2022-11-04</td>\n      <td>04:59:36</td>\n      <td>1234</td>\n      <td>Mozilla/5.0 (Macintosh; Intel Mac OS X 10_15_7...</td>\n      <td>true</td>\n      <td>1523</td>\n      <td>1000</td>\n    </tr>\n  </tbody>\n</table>\n</div>"
     },
     "metadata": {},
     "execution_count": 15
    }
   ],
   "source": [
    "visit = pd.read_csv(\"visit_HSvideo.txt\", delimiter=\"\\t\")\n",
    "visit"
   ]
  },
  {
   "cell_type": "code",
   "execution_count": null,
   "metadata": {},
   "outputs": [],
   "source": []
  }
 ]
}